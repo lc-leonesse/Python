{
 "cells": [
  {
   "cell_type": "markdown",
   "metadata": {},
   "source": [
    "# Leitura de Dados"
   ]
  },
  {
   "cell_type": "code",
   "execution_count": 6,
   "metadata": {
    "collapsed": true
   },
   "outputs": [],
   "source": [
    "import sqlite3\n",
    "import random\n",
    "import time\n",
    "import datetime\n",
    "\n",
    "# Criando uma conexão\n",
    "conn = sqlite3.connect('dsa.db')\n",
    "\n",
    "# Criando um cursor\n",
    "c = conn.cursor()\n",
    "\n",
    "# Função para criar uma tabela\n",
    "def create_table():\n",
    "    c.exeute('CREATE TABLE IF NOT EXISTS produtos(id INTEGER PRIMARY KEY AUTO INCREMENT NOT NULL, date TEXT, '\\\n",
    "             'prod_name TEXT, valor REAL)')\n",
    "    \n",
    "# Função para inserir uma linha\n",
    "def data_insert():\n",
    "    c.execute(\"INSERT INTO produtos VALUES (002, '02-05-2016', 'teclado', 130)\")\n",
    "    conn.commit()\n",
    "    c.close()\n",
    "    conn.close()\n",
    "    \n",
    "# Usando variáveis para insetir dados\n",
    "def data_insert_var():\n",
    "    new_date = datetime.datetime.now()\n",
    "    new_prod_name = 'monitor'\n",
    "    new_valor = random.randrange(50,100)\n",
    "    c.execute(\"INSERT INTO produtos (date, prod_name, valor) VALUES (?, ?, ?, ?)\", \n",
    "              (new_date, new_prod_name, new_valor))\n",
    "    conn.commit()\n",
    "    \n",
    "# Leitura de dados\n",
    "def leitura_todos_dados():\n",
    "    c.execute('SELECT * FROM PRODUTOS')\n",
    "    for linha in c.fetchall():\n",
    "        print(linha)\n",
    "\n",
    "\n",
    "# Leitura de registros específicos\n",
    "def leitura_registros():\n",
    "    c.execute('SELECT * FROM PRODUTOS WHERE valor > 60.0')\n",
    "    for linha in c.fetchall():\n",
    "        print(linha)\n",
    "\n",
    "        \n",
    "# Leitura de colunas específicas\n",
    "def leitura_colunas():\n",
    "    c.execute('SELECT * FROM PRODUTOS')\n",
    "    for linha in c.fetchall():\n",
    "        print(linha[3])"
   ]
  },
  {
   "cell_type": "code",
   "execution_count": 3,
   "metadata": {},
   "outputs": [
    {
     "name": "stdout",
     "output_type": "stream",
     "text": [
      "(10, '2016-05-02 14:32:11', 'Teclado', 90.0)\n",
      "(11, '2018-02-23 11:07:53.592246', 'Monitor', 55.0)\n",
      "(12, '2018-02-23 11:07:54.878045', 'Monitor', 54.0)\n",
      "(13, '2018-02-23 11:07:56.041866', 'Monitor', 55.0)\n",
      "(14, '2018-02-23 11:07:57.179669', 'Monitor', 83.0)\n",
      "(15, '2018-02-23 11:07:58.443268', 'Monitor', 92.0)\n",
      "(16, '2018-02-23 11:07:59.544731', 'Monitor', 76.0)\n",
      "(17, '2018-02-23 11:08:00.683539', 'Monitor', 75.0)\n",
      "(18, '2018-02-23 11:08:01.814972', 'Monitor', 81.0)\n",
      "(19, '2018-02-23 11:08:02.885683', 'Monitor', 62.0)\n",
      "(20, '2018-02-23 11:08:03.987508', 'Monitor', 95.0)\n"
     ]
    }
   ],
   "source": [
    "leitura_todos_dados()"
   ]
  },
  {
   "cell_type": "code",
   "execution_count": 4,
   "metadata": {},
   "outputs": [
    {
     "name": "stdout",
     "output_type": "stream",
     "text": [
      "(10, '2016-05-02 14:32:11', 'Teclado', 90.0)\n",
      "(14, '2018-02-23 11:07:57.179669', 'Monitor', 83.0)\n",
      "(15, '2018-02-23 11:07:58.443268', 'Monitor', 92.0)\n",
      "(16, '2018-02-23 11:07:59.544731', 'Monitor', 76.0)\n",
      "(17, '2018-02-23 11:08:00.683539', 'Monitor', 75.0)\n",
      "(18, '2018-02-23 11:08:01.814972', 'Monitor', 81.0)\n",
      "(19, '2018-02-23 11:08:02.885683', 'Monitor', 62.0)\n",
      "(20, '2018-02-23 11:08:03.987508', 'Monitor', 95.0)\n"
     ]
    }
   ],
   "source": [
    "leitura_registros()"
   ]
  },
  {
   "cell_type": "code",
   "execution_count": 7,
   "metadata": {},
   "outputs": [
    {
     "name": "stdout",
     "output_type": "stream",
     "text": [
      "90.0\n",
      "55.0\n",
      "54.0\n",
      "55.0\n",
      "83.0\n",
      "92.0\n",
      "76.0\n",
      "75.0\n",
      "81.0\n",
      "62.0\n",
      "95.0\n"
     ]
    }
   ],
   "source": [
    "leitura_colunas()"
   ]
  },
  {
   "cell_type": "code",
   "execution_count": 8,
   "metadata": {
    "collapsed": true
   },
   "outputs": [],
   "source": [
    "# Encerrando a conexão\n",
    "c.close()\n",
    "conn.close()"
   ]
  },
  {
   "cell_type": "code",
   "execution_count": null,
   "metadata": {
    "collapsed": true
   },
   "outputs": [],
   "source": []
  }
 ],
 "metadata": {
  "kernelspec": {
   "display_name": "Python 3",
   "language": "python",
   "name": "python3"
  },
  "language_info": {
   "codemirror_mode": {
    "name": "ipython",
    "version": 3
   },
   "file_extension": ".py",
   "mimetype": "text/x-python",
   "name": "python",
   "nbconvert_exporter": "python",
   "pygments_lexer": "ipython3",
   "version": "3.6.3"
  }
 },
 "nbformat": 4,
 "nbformat_minor": 2
}
